{
 "cells": [
  {
   "cell_type": "markdown",
   "metadata": {},
   "source": [
    "# Diabetes prediction model"
   ]
  },
  {
   "cell_type": "markdown",
   "metadata": {},
   "source": [
    "### Preparations"
   ]
  },
  {
   "cell_type": "code",
   "execution_count": null,
   "metadata": {},
   "outputs": [],
   "source": [
    "%pip install matplotlib nbformat pandas plotly scikit-learn tabulate # --break-system-changes"
   ]
  },
  {
   "cell_type": "code",
   "execution_count": null,
   "metadata": {},
   "outputs": [],
   "source": [
    "import pandas as pd\n",
    "from tabulate import tabulate as tab\n",
    "import matplotlib.pyplot as plt\n",
    "import numpy as np\n",
    "import plotly.express as px\n",
    "import plotly.graph_objects as go\n",
    "import sklearn as sl\n",
    "import copy\n",
    "import plotly\n",
    "plotly.io.templates.default = \"plotly_dark\""
   ]
  },
  {
   "cell_type": "markdown",
   "metadata": {},
   "source": [
    "### Preliminary data analysis"
   ]
  },
  {
   "cell_type": "code",
   "execution_count": null,
   "metadata": {},
   "outputs": [],
   "source": [
    "def discrete_share_eval(df, var):\n",
    "    return [\n",
    "        (val, len(df[df[var] == val]), 100*len(df[df[var] == val])/len(df))\n",
    "        for val in set(df[var].values)\n",
    "    ]"
   ]
  },
  {
   "cell_type": "code",
   "execution_count": null,
   "metadata": {},
   "outputs": [],
   "source": [
    "# Basic visualizations\n",
    "raw = pd.read_csv(\"../data/raw.csv\")\n",
    "raw"
   ]
  },
  {
   "cell_type": "code",
   "execution_count": null,
   "metadata": {},
   "outputs": [],
   "source": [
    "# Analisys of the categorical variables\n",
    "for var in [\"gender\", \"smoking_history\", \"diabetes\", \"hypertension\", \"heart_disease\"]:\n",
    "    print(f\"\\n* * * {var} distribution * * *\")\n",
    "    print(\n",
    "        tab(\n",
    "            discrete_share_eval(raw, var),\n",
    "            headers=[\"Value\", \"Quantity\", \"Distribution\"]\n",
    "        )\n",
    "    )"
   ]
  },
  {
   "cell_type": "code",
   "execution_count": null,
   "metadata": {},
   "outputs": [],
   "source": [
    "# Comorbidity evaluation\n",
    "print(f\"\\n* * * Comorbidity distribution * * *\")\n",
    "print(tab(\n",
    "    [\n",
    "        [\n",
    "            a, b, c,\n",
    "            len(raw[(raw[\"diabetes\"] == a) & (raw[\"hypertension\"] == b) & (raw[\"heart_disease\"] == c)]),\n",
    "            100*len(raw[(raw[\"diabetes\"] == a) & (raw[\"hypertension\"] == b) & (raw[\"heart_disease\"] == c)])/len(raw),\n",
    "            \n",
    "        ]\n",
    "        for [a, b, c] in [[a, b, c] for a in [0, 1] for b in [0, 1] for c in [0, 1]]\n",
    "    ],\n",
    "    headers=[\"diabetes\", \"hypertension\", \"heart_disease\", \"qtd\", \"%\"]\n",
    "    )\n",
    ")"
   ]
  },
  {
   "cell_type": "markdown",
   "metadata": {},
   "source": [
    "Preliminary analysis results:\n",
    "\n",
    "**Gender:**\n",
    "\n",
    "- `gender == \"Other\"` has not enough samples for prediction models.\n",
    "- `gender == \"Female\"` has a substantial bigger sample than `gender == \"Male\"`, hence, separate models could yield better results.\n",
    "\n",
    "\n",
    "**Smoking:**\n",
    "\n",
    "- `smoking_history` distribution can be further discretized as follows:\n",
    "    - `smoking_ever` for patients that have smoked at any time in the past.\n",
    "    - `smoking_today` for patients that are smoking today.\n",
    "\n",
    "\n",
    "**Other decesases:**\n",
    "\n",
    "- `diabetes`, `hypertension` and `heart_disease` have uneven distributions.\n",
    "- there is a significant overlaf among the conditions."
   ]
  },
  {
   "cell_type": "code",
   "execution_count": null,
   "metadata": {},
   "outputs": [],
   "source": [
    "raw[\"blood_glucose_level\"] = [float(v) for v in raw[\"blood_glucose_level\"].values]\n",
    "\n",
    "pp = copy.deepcopy(raw)\n",
    "\n",
    "pp = pp[pp[\"gender\"] != \"Other\"]\n",
    "pp[\"Male\"] = [1 if v == \"Male\" else 0 for v in pp[\"gender\"].values]\n",
    "pp = pp.drop(columns=\"gender\")\n",
    "\n",
    "pp = pp[pp[\"smoking_history\"] != \"No Info\"]\n",
    "pp[\"smoking_ever\"] = [\n",
    "    1 if v in [\"former\", \"ever\", \"current\"] else 0 \n",
    "    for v in pp[\"smoking_history\"].values\n",
    "]\n",
    "pp[\"smoking_today\"] = [\n",
    "    1 if v in [\"ever\", \"current\"] else 0 \n",
    "    for v in pp[\"smoking_history\"].values\n",
    "]\n",
    "pp = pp.drop(columns=\"smoking_history\")"
   ]
  },
  {
   "cell_type": "code",
   "execution_count": null,
   "metadata": {},
   "outputs": [],
   "source": [
    "px.imshow(pp.corr(), color_continuous_scale=\"Turbo\")"
   ]
  },
  {
   "cell_type": "code",
   "execution_count": null,
   "metadata": {},
   "outputs": [],
   "source": [
    "import plotly.subplots\n",
    "\n",
    "pos = [\n",
    "    [\n",
    "        1 + l // int(np.ceil(len(raw.columns)**(1/2))),\n",
    "        1 + l %  int(np.ceil(len(raw.columns)**(1/2)))\n",
    "    ]\n",
    "    for l in range(len(raw.columns))\n",
    "][:len(raw.columns)]\n",
    "\n",
    "fig = plotly.subplots.make_subplots(\n",
    "    rows = max([p[0] for p in pos]),\n",
    "    cols = max([p[1] for p in pos])\n",
    ")\n",
    "\n",
    "for p, var in zip(pos, raw.columns):\n",
    "    fig.add_trace(\n",
    "        go.Histogram(\n",
    "            x = sorted(raw[var].values),\n",
    "            histnorm ='percent',\n",
    "            histfunc =\"avg\",\n",
    "            name = var,\n",
    "            nbinsx = (\n",
    "                int(np.ceil(len(set(raw[var].values))**0.5))\n",
    "                if str(raw[var].dtype) == \"float64\"\n",
    "                else None\n",
    "            )\n",
    "        ), row=p[0], col=p[1]\n",
    "    )\n",
    "fig.update_layout(title=\"Plot Title\", margin=dict(l=5, r=5, t=50, b=5, pad=5))\n",
    "fig.show()"
   ]
  },
  {
   "cell_type": "markdown",
   "metadata": {},
   "source": [
    "# Secondary analysis\n",
    "- "
   ]
  },
  {
   "cell_type": "code",
   "execution_count": null,
   "metadata": {},
   "outputs": [],
   "source": []
  }
 ],
 "metadata": {
  "kernelspec": {
   "display_name": "Python 3",
   "language": "python",
   "name": "python3"
  },
  "language_info": {
   "codemirror_mode": {
    "name": "ipython",
    "version": 3
   },
   "file_extension": ".py",
   "mimetype": "text/x-python",
   "name": "python",
   "nbconvert_exporter": "python",
   "pygments_lexer": "ipython3",
   "version": "3.12.3"
  }
 },
 "nbformat": 4,
 "nbformat_minor": 2
}
